{
 "cells": [
  {
   "cell_type": "code",
   "execution_count": 23,
   "id": "07f14d71",
   "metadata": {
    "scrolled": true
   },
   "outputs": [
    {
     "name": "stdout",
     "output_type": "stream",
     "text": [
      "root\n",
      " |-- _c0: integer (nullable = true)\n",
      " |-- crim: double (nullable = true)\n",
      " |-- zn: double (nullable = true)\n",
      " |-- indus: double (nullable = true)\n",
      " |-- chas: integer (nullable = true)\n",
      " |-- nox: double (nullable = true)\n",
      " |-- rm: double (nullable = true)\n",
      " |-- age: double (nullable = true)\n",
      " |-- dis: double (nullable = true)\n",
      " |-- rad: integer (nullable = true)\n",
      " |-- tax: integer (nullable = true)\n",
      " |-- ptratio: double (nullable = true)\n",
      " |-- black: double (nullable = true)\n",
      " |-- lstat: double (nullable = true)\n",
      " |-- medv: double (nullable = true)\n",
      "\n"
     ]
    }
   ],
   "source": [
    "from pyspark.sql import SparkSession\n",
    "from pyspark.ml.feature import VectorAssembler\n",
    "from pyspark.ml.regression import LinearRegression\n",
    "from pyspark.ml.evaluation import RegressionEvaluator\n",
    "\n",
    "#  SparkSession 생성\n",
    "spark = SparkSession \\\n",
    "    .builder \\\n",
    "    .appName(\"adam\") \\\n",
    "    .getOrCreate()\n",
    "\n",
    "# 외부 csv 데이터 불러온 후, 스키마 출력(inferSchema는 컬럼의 데이터 타입을 자동으로 추론)\n",
    "data = spark.read.csv('./boston.csv', header=True, inferSchema=True)\n",
    "data.printSchema()\n",
    "\n",
    "# label인 medv를 제외한 컬럼을 가져오고 이를 하나의 피처 벡터 컬럼으로 변환 후 'features' 컬럼에 저장\n",
    "feature_columns = data.columns[:-1]\n",
    "assembler = VectorAssembler(inputCols=feature_columns, outputCol=\"features\")\n",
    "data = assembler.transform(data)\n",
    "\n",
    "# 학습, 테스트셋 분리\n",
    "train_data, test_data = data.randomSplit([0.8, 0.2], seed=20230921)"
   ]
  },
  {
   "cell_type": "code",
   "execution_count": 16,
   "id": "121fbd6e",
   "metadata": {},
   "outputs": [
    {
     "name": "stdout",
     "output_type": "stream",
     "text": [
      "aggregationDepth: suggested depth for treeAggregate (>= 2). (default: 2)\n",
      "elasticNetParam: the ElasticNet mixing parameter, in range [0, 1]. For alpha = 0, the penalty is an L2 penalty. For alpha = 1, it is an L1 penalty. (default: 0.0, current: 0.8)\n",
      "epsilon: The shape parameter to control the amount of robustness. Must be > 1.0. Only valid when loss is huber (default: 1.35)\n",
      "featuresCol: features column name. (default: features, current: features)\n",
      "fitIntercept: whether to fit an intercept term. (default: True)\n",
      "labelCol: label column name. (default: label, current: medv)\n",
      "loss: The loss function to be optimized. Supported options: squaredError, huber. (default: squaredError)\n",
      "maxBlockSizeInMB: maximum memory in MB for stacking input data into blocks. Data is stacked within partitions. If more than remaining data size in a partition then it is adjusted to the data size. Default 0.0 represents choosing optimal value, depends on specific algorithm. Must be >= 0. (default: 0.0)\n",
      "maxIter: max number of iterations (>= 0). (default: 100, current: 10)\n",
      "predictionCol: prediction column name. (default: prediction)\n",
      "regParam: regularization parameter (>= 0). (default: 0.0)\n",
      "solver: The solver algorithm for optimization. Supported options: auto, normal, l-bfgs. (default: auto)\n",
      "standardization: whether to standardize the training features before fitting the model. (default: True)\n",
      "tol: the convergence tolerance for iterative algorithms (>= 0). (default: 1e-06)\n",
      "weightCol: weight column name. If this is not set or empty, we treat all instance weights as 1.0. (undefined)\n"
     ]
    }
   ],
   "source": [
    "lr = LinearRegression(featuresCol=\"features\", labelCol=\"medv\").setMaxIter(10).setElasticNetParam(0.8)\n",
    "print(lr.explainParams())"
   ]
  },
  {
   "cell_type": "code",
   "execution_count": 17,
   "id": "05961b92",
   "metadata": {},
   "outputs": [],
   "source": [
    "model = lr.fit(train_data)"
   ]
  },
  {
   "cell_type": "code",
   "execution_count": 18,
   "id": "21086a74",
   "metadata": {
    "scrolled": true
   },
   "outputs": [
    {
     "name": "stdout",
     "output_type": "stream",
     "text": [
      "coeff: [-0.0011384965525373981,-0.11382731736982217,0.04345857667392836,-0.009590641423899147,2.7773521264664107,-16.706034331615328,3.6604896948821906,-0.004348133394135391,-1.4170988376642684,0.3340328560716146,-0.014958676488581353,-1.0041442068694604,0.007751474062520427,-0.44705086421922635]\n",
      "intercept: 38.78168582742949\n"
     ]
    }
   ],
   "source": [
    "# 절편 및 계수\n",
    "print(\"coeff:\", model.coefficients)\n",
    "print(\"intercept:\",model.intercept)"
   ]
  },
  {
   "cell_type": "code",
   "execution_count": 20,
   "id": "b198baff",
   "metadata": {},
   "outputs": [
    {
     "name": "stdout",
     "output_type": "stream",
     "text": [
      "+--------------------+\n",
      "|           residuals|\n",
      "+--------------------+\n",
      "|   -5.93347367272095|\n",
      "| -3.5602435194523423|\n",
      "|    4.41400038252246|\n",
      "|   4.824187881803212|\n",
      "|     8.1714686396922|\n",
      "|  3.2801858110954747|\n",
      "| -0.6796235279944582|\n",
      "|   6.617283915340149|\n",
      "|   3.108602362798429|\n",
      "| -0.9351824618219347|\n",
      "|   -5.05181059652363|\n",
      "| -3.2792364653870543|\n",
      "|-0.19139056616458205|\n",
      "|  0.8945962195035371|\n",
      "|  0.6022852708869735|\n",
      "| 0.26032333762736926|\n",
      "|-0.33629364672044204|\n",
      "|  0.2914959305512621|\n",
      "| -1.1621981427636854|\n",
      "| 0.05606782582302117|\n",
      "+--------------------+\n",
      "only showing top 20 rows\n",
      "\n",
      "total_iter: 0\n",
      "RMSE: 4.489037353393413\n",
      "R2: 0.75226768239584\n"
     ]
    },
    {
     "name": "stderr",
     "output_type": "stream",
     "text": [
      "C:\\Users\\1\\anaconda3\\envs\\spark\\lib\\site-packages\\pyspark\\sql\\context.py:125: FutureWarning: Deprecated in 3.0.0. Use SparkSession.builder.getOrCreate() instead.\n",
      "  warnings.warn(\n"
     ]
    }
   ],
   "source": [
    "# 요약\n",
    "summary = model.summary\n",
    "summary.residuals.show()\n",
    "print(\"total_iter:\",summary.totalIterations)\n",
    "print(\"RMSE:\",summary.rootMeanSquaredError)\n",
    "print(\"R2:\",summary.r2)"
   ]
  },
  {
   "cell_type": "code",
   "execution_count": 30,
   "id": "3ddefefe",
   "metadata": {},
   "outputs": [
    {
     "name": "stdout",
     "output_type": "stream",
     "text": [
      "rmse: 5.4116\n",
      "mae: 3.3250\n",
      "r2: 0.6783\n"
     ]
    }
   ],
   "source": [
    "# prediction 진행\n",
    "predictions = model.transform(test_data)\n",
    "\n",
    "evaluator = RegressionEvaluator(labelCol=\"medv\", predictionCol='prediction')\n",
    "rmse = evaluator.evaluate(predictions, {evaluator.metricName: \"rmse\"})\n",
    "mae = evaluator.evaluate(predictions, {evaluator.metricName: \"mae\"})\n",
    "r2 = evaluator.evaluate(predictions, {evaluator.metricName: \"r2\"})\n",
    "\n",
    "print(f\"rmse: {rmse:.4f}\")\n",
    "print(f\"mae: {mae:.4f}\")\n",
    "print(f\"r2: {r2:.4f}\")"
   ]
  }
 ],
 "metadata": {
  "kernelspec": {
   "display_name": "spark",
   "language": "python",
   "name": "spark"
  },
  "language_info": {
   "codemirror_mode": {
    "name": "ipython",
    "version": 3
   },
   "file_extension": ".py",
   "mimetype": "text/x-python",
   "name": "python",
   "nbconvert_exporter": "python",
   "pygments_lexer": "ipython3",
   "version": "3.10.9"
  }
 },
 "nbformat": 4,
 "nbformat_minor": 5
}
