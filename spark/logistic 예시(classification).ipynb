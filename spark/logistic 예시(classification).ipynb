{
 "cells": [
  {
   "cell_type": "code",
   "execution_count": 1,
   "id": "07f14d71",
   "metadata": {
    "scrolled": true
   },
   "outputs": [
    {
     "name": "stdout",
     "output_type": "stream",
     "text": [
      "+------+---------+-----------+------------+--------------+---------+---------------+----------------+--------------+-------------------+-------------+----------------------+---------+----------+------------+-------+-------------+--------------+------------+-----------------+-----------+--------------------+------------+-------------+---------------+----------+----------------+-----------------+---------------+--------------------+--------------+-----------------------+----+\n",
      "|    id|diagnosis|radius_mean|texture_mean|perimeter_mean|area_mean|smoothness_mean|compactness_mean|concavity_mean|concave points_mean|symmetry_mean|fractal_dimension_mean|radius_se|texture_se|perimeter_se|area_se|smoothness_se|compactness_se|concavity_se|concave points_se|symmetry_se|fractal_dimension_se|radius_worst|texture_worst|perimeter_worst|area_worst|smoothness_worst|compactness_worst|concavity_worst|concave points_worst|symmetry_worst|fractal_dimension_worst|_c32|\n",
      "+------+---------+-----------+------------+--------------+---------+---------------+----------------+--------------+-------------------+-------------+----------------------+---------+----------+------------+-------+-------------+--------------+------------+-----------------+-----------+--------------------+------------+-------------+---------------+----------+----------------+-----------------+---------------+--------------------+--------------+-----------------------+----+\n",
      "|842302|        M|      17.99|       10.38|         122.8|   1001.0|         0.1184|          0.2776|        0.3001|             0.1471|       0.2419|               0.07871|    1.095|    0.9053|       8.589|  153.4|     0.006399|       0.04904|     0.05373|          0.01587|    0.03003|            0.006193|       25.38|        17.33|          184.6|    2019.0|          0.1622|           0.6656|         0.7119|              0.2654|        0.4601|                 0.1189|null|\n",
      "|842517|        M|      20.57|       17.77|         132.9|   1326.0|        0.08474|         0.07864|        0.0869|            0.07017|       0.1812|               0.05667|   0.5435|    0.7339|       3.398|  74.08|     0.005225|       0.01308|      0.0186|           0.0134|    0.01389|            0.003532|       24.99|        23.41|          158.8|    1956.0|          0.1238|           0.1866|         0.2416|               0.186|         0.275|                0.08902|null|\n",
      "+------+---------+-----------+------------+--------------+---------+---------------+----------------+--------------+-------------------+-------------+----------------------+---------+----------+------------+-------+-------------+--------------+------------+-----------------+-----------+--------------------+------------+-------------+---------------+----------+----------------+-----------------+---------------+--------------------+--------------+-----------------------+----+\n",
      "only showing top 2 rows\n",
      "\n"
     ]
    }
   ],
   "source": [
    "from pyspark.sql import SparkSession\n",
    "from pyspark import SparkFiles\n",
    "from pyspark.ml.classification import LogisticRegression\n",
    "from pyspark.ml.evaluation import BinaryClassificationEvaluator, MulticlassClassificationEvaluator\n",
    "from pyspark.ml.feature import VectorAssembler\n",
    "\n",
    "#  SparkSession 생성\n",
    "spark = SparkSession.builder \\\n",
    "    .appName(\"adam\") \\\n",
    "    .getOrCreate()\n",
    "\n",
    "# 데이터를 원격 URL에서 다운로드하기 위해 addFile()을 사용하여 데이터 파일을 Spark 클러스터 노드로 복사\n",
    "url = \"https://raw.githubusercontent.com/pkmklong/Breast-Cancer-Wisconsin-Diagnostic-DataSet/master/data.csv\"\n",
    "spark.sparkContext.addFile(url)\n",
    "\n",
    "# SparkFiles.get()를 사용하여 복사된 데이터 파일을 읽고, DataFrame으로 로드 \n",
    "# 첫 2개의 행 출력\n",
    "df = spark.read.csv(SparkFiles.get(\"data.csv\"), header=True, inferSchema=True)\n",
    "df.show(2)\n",
    "\n",
    "# DataFrame의 컬럼명 변경\n",
    "#id' 및 'diagnosis' 컬럼 외 'feature_1', 'feature_2', ... 형식으로 변경\n",
    "columns = ['id', 'diagnosis'] + [f'feature_{i}' for i in range(1, 32)]\n",
    "data = df.toDF(*columns)\n",
    "\n",
    "# 'diagnosis' 컬럼의 'M'을 1로, 'B' (양성)을 0으로 정수 매핑 후, 'diagnosis' 컬럼은 제거\n",
    "data = data.withColumn(\"label\", (data[\"diagnosis\"] == \"M\").cast(\"integer\")).drop(\"diagnosis\")\n",
    "\n",
    "# 'feature_1'부터 'feature_24'까지의 컬럼을 선택하고, 이를 하나의 피처 벡터 컬럼으로 변환 후 'features' 컬럼에 저장\n",
    "feature_columns = [f'feature_{i}' for i in range(1, 25)]\n",
    "assembler = VectorAssembler(inputCols=feature_columns, outputCol=\"features\")\n",
    "data = assembler.transform(data)\n",
    "\n",
    "# 학습, 테스트셋 분리\n",
    "train_data, test_data = data.randomSplit([0.8, 0.2], seed=20230921)"
   ]
  },
  {
   "cell_type": "code",
   "execution_count": 2,
   "id": "121fbd6e",
   "metadata": {},
   "outputs": [
    {
     "name": "stdout",
     "output_type": "stream",
     "text": [
      "aggregationDepth: suggested depth for treeAggregate (>= 2). (default: 2)\n",
      "elasticNetParam: the ElasticNet mixing parameter, in range [0, 1]. For alpha = 0, the penalty is an L2 penalty. For alpha = 1, it is an L1 penalty. (default: 0.0)\n",
      "family: The name of family which is a description of the label distribution to be used in the model. Supported options: auto, binomial, multinomial (default: auto)\n",
      "featuresCol: features column name. (default: features, current: features)\n",
      "fitIntercept: whether to fit an intercept term. (default: True)\n",
      "labelCol: label column name. (default: label, current: label)\n",
      "lowerBoundsOnCoefficients: The lower bounds on coefficients if fitting under bound constrained optimization. The bound matrix must be compatible with the shape (1, number of features) for binomial regression, or (number of classes, number of features) for multinomial regression. (undefined)\n",
      "lowerBoundsOnIntercepts: The lower bounds on intercepts if fitting under bound constrained optimization. The bounds vector size must beequal with 1 for binomial regression, or the number oflasses for multinomial regression. (undefined)\n",
      "maxBlockSizeInMB: maximum memory in MB for stacking input data into blocks. Data is stacked within partitions. If more than remaining data size in a partition then it is adjusted to the data size. Default 0.0 represents choosing optimal value, depends on specific algorithm. Must be >= 0. (default: 0.0)\n",
      "maxIter: max number of iterations (>= 0). (default: 100)\n",
      "predictionCol: prediction column name. (default: prediction)\n",
      "probabilityCol: Column name for predicted class conditional probabilities. Note: Not all models output well-calibrated probability estimates! These probabilities should be treated as confidences, not precise probabilities. (default: probability)\n",
      "rawPredictionCol: raw prediction (a.k.a. confidence) column name. (default: rawPrediction)\n",
      "regParam: regularization parameter (>= 0). (default: 0.0)\n",
      "standardization: whether to standardize the training features before fitting the model. (default: True)\n",
      "threshold: Threshold in binary classification prediction, in range [0, 1]. If threshold and thresholds are both set, they must match.e.g. if threshold is p, then thresholds must be equal to [1-p, p]. (default: 0.5)\n",
      "thresholds: Thresholds in multi-class classification to adjust the probability of predicting each class. Array must have length equal to the number of classes, with values > 0, excepting that at most one value may be 0. The class with largest value p/t is predicted, where p is the original probability of that class and t is the class's threshold. (undefined)\n",
      "tol: the convergence tolerance for iterative algorithms (>= 0). (default: 1e-06)\n",
      "upperBoundsOnCoefficients: The upper bounds on coefficients if fitting under bound constrained optimization. The bound matrix must be compatible with the shape (1, number of features) for binomial regression, or (number of classes, number of features) for multinomial regression. (undefined)\n",
      "upperBoundsOnIntercepts: The upper bounds on intercepts if fitting under bound constrained optimization. The bound vector size must be equal with 1 for binomial regression, or the number of classes for multinomial regression. (undefined)\n",
      "weightCol: weight column name. If this is not set or empty, we treat all instance weights as 1.0. (undefined)\n"
     ]
    }
   ],
   "source": [
    "logistic_regression = LogisticRegression(featuresCol=\"features\", labelCol=\"label\")\n",
    "print(logistic_regression.explainParams())"
   ]
  },
  {
   "cell_type": "code",
   "execution_count": 3,
   "id": "b594cf32",
   "metadata": {},
   "outputs": [],
   "source": [
    "model = logistic_regression.fit(train_data)"
   ]
  },
  {
   "cell_type": "code",
   "execution_count": 4,
   "id": "21086a74",
   "metadata": {
    "scrolled": true
   },
   "outputs": [
    {
     "name": "stdout",
     "output_type": "stream",
     "text": [
      "coeff: [-18.745836156912354,-37.61798013875791,-3.234477875921946,-0.16877842822122097,7445.113403326788,-83.2724078803222,3683.412854717869,5960.411307151161,1424.9497556518256,1004.8882626760784,1009.8576143004756,-558.7181204528758,14.155740791097887,4.138568010177129,12019.785085927231,2431.1566273670355,3088.167480690681,-4682.901772453213,-16922.129391524082,-98788.23438764102,60.668927195695005,88.88712346023758,6.351016407981151,0.44238213516090985]\n",
      "intercept: -3954.2536865501384\n"
     ]
    }
   ],
   "source": [
    "# 절편 및 계수\n",
    "print(\"coeff:\", model.coefficients)\n",
    "print(\"intercept:\",model.intercept)"
   ]
  },
  {
   "cell_type": "code",
   "execution_count": 5,
   "id": "b198baff",
   "metadata": {},
   "outputs": [
    {
     "name": "stdout",
     "output_type": "stream",
     "text": [
      "AUROC: 1.0\n",
      "ACC: 1.0\n"
     ]
    }
   ],
   "source": [
    "# 요약\n",
    "summary = model.summary\n",
    "print(\"AUROC:\",summary.areaUnderROC)\n",
    "print(\"ACC:\",summary.accuracy)"
   ]
  },
  {
   "cell_type": "code",
   "execution_count": 6,
   "id": "3ddefefe",
   "metadata": {},
   "outputs": [
    {
     "name": "stdout",
     "output_type": "stream",
     "text": [
      "AUC-ROC: 0.9849\n",
      "Accuracy: 0.9426\n",
      "Precision: 0.9426\n",
      "Recall: 0.9426\n"
     ]
    }
   ],
   "source": [
    "# prediction 진행\n",
    "predictions = model.transform(test_data)\n",
    "\n",
    "# AUC-ROC는 BinaryClassificationEvaluator 에서 측정 가능\n",
    "evaluator = BinaryClassificationEvaluator(rawPredictionCol=\"rawPrediction\", labelCol=\"label\")\n",
    "auc = evaluator.evaluate(predictions)\n",
    "\n",
    "# Accuracy, Precision, and Recall는 MulticlassClassificationEvaluator에서 측정 가능\n",
    "multi_evaluator = MulticlassClassificationEvaluator(labelCol=\"label\", predictionCol=\"prediction\")\n",
    "accuracy = multi_evaluator.evaluate(predictions, {multi_evaluator.metricName: \"accuracy\"})\n",
    "precision = multi_evaluator.evaluate(predictions, {multi_evaluator.metricName: \"weightedPrecision\"})\n",
    "recall = multi_evaluator.evaluate(predictions, {multi_evaluator.metricName: \"weightedRecall\"})\n",
    "\n",
    "print(f\"AUC-ROC: {auc:.4f}\")\n",
    "print(f\"Accuracy: {accuracy:.4f}\")\n",
    "print(f\"Precision: {precision:.4f}\")\n",
    "print(f\"Recall: {recall:.4f}\")"
   ]
  },
  {
   "cell_type": "code",
   "execution_count": null,
   "id": "313b2776",
   "metadata": {},
   "outputs": [],
   "source": []
  }
 ],
 "metadata": {
  "kernelspec": {
   "display_name": "spark",
   "language": "python",
   "name": "spark"
  },
  "language_info": {
   "codemirror_mode": {
    "name": "ipython",
    "version": 3
   },
   "file_extension": ".py",
   "mimetype": "text/x-python",
   "name": "python",
   "nbconvert_exporter": "python",
   "pygments_lexer": "ipython3",
   "version": "3.10.9"
  }
 },
 "nbformat": 4,
 "nbformat_minor": 5
}
