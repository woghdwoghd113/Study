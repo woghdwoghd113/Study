{
 "cells": [
  {
   "cell_type": "code",
   "execution_count": 13,
   "id": "07f14d71",
   "metadata": {
    "scrolled": true
   },
   "outputs": [
    {
     "name": "stdout",
     "output_type": "stream",
     "text": [
      "root\n",
      " |-- _c0: integer (nullable = true)\n",
      " |-- crim: double (nullable = true)\n",
      " |-- zn: double (nullable = true)\n",
      " |-- indus: double (nullable = true)\n",
      " |-- chas: integer (nullable = true)\n",
      " |-- nox: double (nullable = true)\n",
      " |-- rm: double (nullable = true)\n",
      " |-- age: double (nullable = true)\n",
      " |-- dis: double (nullable = true)\n",
      " |-- rad: integer (nullable = true)\n",
      " |-- tax: integer (nullable = true)\n",
      " |-- ptratio: double (nullable = true)\n",
      " |-- black: double (nullable = true)\n",
      " |-- lstat: double (nullable = true)\n",
      " |-- medv: double (nullable = true)\n",
      "\n"
     ]
    }
   ],
   "source": [
    "from pyspark.sql import SparkSession\n",
    "from pyspark.ml.feature import VectorAssembler\n",
    "from pyspark.ml.regression import RandomForestRegressor\n",
    "from pyspark.ml.evaluation import RegressionEvaluator\n",
    "from pyspark.ml import Pipeline\n",
    "from pyspark.ml.tuning import CrossValidator, ParamGridBuilder\n",
    "\n",
    "#  SparkSession 생성\n",
    "spark = SparkSession \\\n",
    "    .builder \\\n",
    "    .appName(\"adam\") \\\n",
    "    .getOrCreate()\n",
    "\n",
    "# 외부 csv 데이터 불러온 후, 스키마 출력(inferSchema는 컬럼의 데이터 타입을 자동으로 추론)\n",
    "data = spark.read.csv('./boston.csv', header=True, inferSchema=True)\n",
    "data.printSchema()\n",
    "\n",
    "# label인 medv를 제외한 컬럼을 가져오고 이를 하나의 피처 벡터 컬럼으로 변환 후 'features' 컬럼에 저장\n",
    "feature_columns = data.columns[:-1]\n",
    "assembler = VectorAssembler(inputCols=feature_columns, outputCol=\"features\")\n",
    "data = assembler.transform(data)\n",
    "\n",
    "# 학습, 테스트셋 분리\n",
    "train_data, test_data = data.randomSplit([0.8, 0.2], seed=20230921)"
   ]
  },
  {
   "cell_type": "code",
   "execution_count": 45,
   "id": "121fbd6e",
   "metadata": {},
   "outputs": [],
   "source": [
    "# 모델 정의\n",
    "rf = RandomForestRegressor(featuresCol=\"features\", labelCol=\"medv\")\n",
    "\n",
    "# 파이프라인 정의\n",
    "pipeline = Pipeline().setStages([rf])\n",
    "\n",
    "# 하이퍼파라미터 후보군 정의\n",
    "params = ParamGridBuilder().addGrid(rf.numTrees, [50, 100, 150]).build()\n",
    "\n",
    "\n",
    "# evaluator 정의\n",
    "evaluator = RegressionEvaluator() \\\n",
    "            .setMetricName(\"rmse\") \\\n",
    "            .setPredictionCol(\"prediction\") \\\n",
    "            .setLabelCol(\"medv\")\n",
    "\n",
    "# cross validator 정의\n",
    "cv = CrossValidator()\\\n",
    ".setEstimator(pipeline)\\\n",
    ".setEvaluator(evaluator)\\\n",
    ".setEstimatorParamMaps(params)\\\n",
    ".setNumFolds(5)\n",
    "\n",
    "model = cv.fit(train_data)"
   ]
  },
  {
   "cell_type": "code",
   "execution_count": 47,
   "id": "7e61dd1f",
   "metadata": {},
   "outputs": [
    {
     "data": {
      "text/plain": [
       "RandomForestRegressionModel: uid=RandomForestRegressor_0856a87da0d2, numTrees=100, numFeatures=14"
      ]
     },
     "execution_count": 47,
     "metadata": {},
     "output_type": "execute_result"
    }
   ],
   "source": [
    "# 최적의 모델 가져오기\n",
    "best_model = model.bestModel\n",
    "\n",
    "# 최적의 모델의 하이퍼파라미터 값 확인\n",
    "best_rf_model = best_model.stages[0]\n",
    "best_rf_model"
   ]
  },
  {
   "cell_type": "code",
   "execution_count": 48,
   "id": "3ddefefe",
   "metadata": {},
   "outputs": [
    {
     "name": "stdout",
     "output_type": "stream",
     "text": [
      "rmse: 3.7126\n",
      "mae: 2.3035\n",
      "r2: 0.8486\n"
     ]
    }
   ],
   "source": [
    "# prediction 진행\n",
    "predictions = model.transform(test_data)\n",
    "\n",
    "evaluator = RegressionEvaluator(labelCol=\"medv\", predictionCol='prediction')\n",
    "rmse = evaluator.evaluate(predictions, {evaluator.metricName: \"rmse\"})\n",
    "mae = evaluator.evaluate(predictions, {evaluator.metricName: \"mae\"})\n",
    "r2 = evaluator.evaluate(predictions, {evaluator.metricName: \"r2\"})\n",
    "\n",
    "print(f\"rmse: {rmse:.4f}\")\n",
    "print(f\"mae: {mae:.4f}\")\n",
    "print(f\"r2: {r2:.4f}\")"
   ]
  },
  {
   "cell_type": "code",
   "execution_count": null,
   "id": "3a97d505",
   "metadata": {},
   "outputs": [],
   "source": []
  }
 ],
 "metadata": {
  "kernelspec": {
   "display_name": "spark",
   "language": "python",
   "name": "spark"
  },
  "language_info": {
   "codemirror_mode": {
    "name": "ipython",
    "version": 3
   },
   "file_extension": ".py",
   "mimetype": "text/x-python",
   "name": "python",
   "nbconvert_exporter": "python",
   "pygments_lexer": "ipython3",
   "version": "3.10.9"
  }
 },
 "nbformat": 4,
 "nbformat_minor": 5
}
