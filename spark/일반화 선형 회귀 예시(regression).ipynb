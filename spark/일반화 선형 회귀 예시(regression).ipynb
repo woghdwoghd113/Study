{
 "cells": [
  {
   "cell_type": "code",
   "execution_count": 1,
   "id": "07f14d71",
   "metadata": {
    "scrolled": true
   },
   "outputs": [
    {
     "name": "stdout",
     "output_type": "stream",
     "text": [
      "root\n",
      " |-- _c0: integer (nullable = true)\n",
      " |-- crim: double (nullable = true)\n",
      " |-- zn: double (nullable = true)\n",
      " |-- indus: double (nullable = true)\n",
      " |-- chas: integer (nullable = true)\n",
      " |-- nox: double (nullable = true)\n",
      " |-- rm: double (nullable = true)\n",
      " |-- age: double (nullable = true)\n",
      " |-- dis: double (nullable = true)\n",
      " |-- rad: integer (nullable = true)\n",
      " |-- tax: integer (nullable = true)\n",
      " |-- ptratio: double (nullable = true)\n",
      " |-- black: double (nullable = true)\n",
      " |-- lstat: double (nullable = true)\n",
      " |-- medv: double (nullable = true)\n",
      "\n"
     ]
    }
   ],
   "source": [
    "from pyspark.sql import SparkSession\n",
    "from pyspark.ml.feature import VectorAssembler\n",
    "from pyspark.ml.regression import GeneralizedLinearRegression\n",
    "from pyspark.ml.evaluation import RegressionEvaluator\n",
    "\n",
    "#  SparkSession 생성\n",
    "spark = SparkSession \\\n",
    "    .builder \\\n",
    "    .appName(\"adam\") \\\n",
    "    .getOrCreate()\n",
    "\n",
    "# 외부 csv 데이터 불러온 후, 스키마 출력(inferSchema는 컬럼의 데이터 타입을 자동으로 추론)\n",
    "data = spark.read.csv('./boston.csv', header=True, inferSchema=True)\n",
    "data.printSchema()\n",
    "\n",
    "# label인 medv를 제외한 컬럼을 가져오고 이를 하나의 피처 벡터 컬럼으로 변환 후 'features' 컬럼에 저장\n",
    "feature_columns = data.columns[:-1]\n",
    "assembler = VectorAssembler(inputCols=feature_columns, outputCol=\"features\")\n",
    "data = assembler.transform(data)\n",
    "\n",
    "# 학습, 테스트셋 분리\n",
    "train_data, test_data = data.randomSplit([0.8, 0.2], seed=20230921)"
   ]
  },
  {
   "cell_type": "code",
   "execution_count": 2,
   "id": "121fbd6e",
   "metadata": {},
   "outputs": [
    {
     "name": "stdout",
     "output_type": "stream",
     "text": [
      "aggregationDepth: suggested depth for treeAggregate (>= 2). (default: 2)\n",
      "family: The name of family which is a description of the error distribution to be used in the model. Supported options: gaussian (default), binomial, poisson, gamma and tweedie. (default: gaussian, current: gaussian)\n",
      "featuresCol: features column name. (default: features, current: features)\n",
      "fitIntercept: whether to fit an intercept term. (default: True)\n",
      "labelCol: label column name. (default: label, current: medv)\n",
      "link: The name of link function which provides the relationship between the linear predictor and the mean of the distribution function. Supported options: identity, log, inverse, logit, probit, cloglog and sqrt. (current: identity)\n",
      "linkPower: The index in the power link function. Only applicable to the Tweedie family. (undefined)\n",
      "linkPredictionCol: link prediction (linear predictor) column name (undefined)\n",
      "maxIter: max number of iterations (>= 0). (default: 25, current: 10)\n",
      "offsetCol: The offset column name. If this is not set or empty, we treat all instance offsets as 0.0 (undefined)\n",
      "predictionCol: prediction column name. (default: prediction)\n",
      "regParam: regularization parameter (>= 0). (default: 0.0)\n",
      "solver: The solver algorithm for optimization. Supported options: irls. (default: irls)\n",
      "tol: the convergence tolerance for iterative algorithms (>= 0). (default: 1e-06)\n",
      "variancePower: The power in the variance function of the Tweedie distribution which characterizes the relationship between the variance and mean of the distribution. Only applicable for the Tweedie family. Supported values: 0 and [1, Inf). (default: 0.0)\n",
      "weightCol: weight column name. If this is not set or empty, we treat all instance weights as 1.0. (undefined)\n"
     ]
    }
   ],
   "source": [
    "glr = GeneralizedLinearRegression(featuresCol=\"features\", labelCol=\"medv\") \\\n",
    "     .setFamily(\"gaussian\") \\\n",
    "     .setLink(\"identity\") \\\n",
    "     .setMaxIter(10)\n",
    "print(glr.explainParams())"
   ]
  },
  {
   "cell_type": "code",
   "execution_count": 3,
   "id": "05961b92",
   "metadata": {},
   "outputs": [],
   "source": [
    "model = glr.fit(train_data)"
   ]
  },
  {
   "cell_type": "code",
   "execution_count": 4,
   "id": "21086a74",
   "metadata": {
    "scrolled": true
   },
   "outputs": [
    {
     "name": "stdout",
     "output_type": "stream",
     "text": [
      "coeff: [-0.0011384965525373981,-0.11382731736982217,0.04345857667392836,-0.009590641423899147,2.7773521264664107,-16.706034331615328,3.6604896948821906,-0.004348133394135391,-1.4170988376642684,0.3340328560716146,-0.014958676488581353,-1.0041442068694604,0.007751474062520427,-0.44705086421922635]\n",
      "intercept: 38.78168582742949\n"
     ]
    }
   ],
   "source": [
    "# 절편 및 계수\n",
    "print(\"coeff:\", model.coefficients)\n",
    "print(\"intercept:\",model.intercept)"
   ]
  },
  {
   "cell_type": "code",
   "execution_count": 12,
   "id": "3ddefefe",
   "metadata": {},
   "outputs": [
    {
     "name": "stdout",
     "output_type": "stream",
     "text": [
      "rmse: 5.4116\n",
      "mae: 3.3250\n",
      "r2: 0.6783\n"
     ]
    }
   ],
   "source": [
    "# prediction 진행\n",
    "predictions = model.transform(test_data)\n",
    "\n",
    "evaluator = RegressionEvaluator(labelCol=\"medv\", predictionCol='prediction')\n",
    "rmse = evaluator.evaluate(predictions, {evaluator.metricName: \"rmse\"})\n",
    "mae = evaluator.evaluate(predictions, {evaluator.metricName: \"mae\"})\n",
    "r2 = evaluator.evaluate(predictions, {evaluator.metricName: \"r2\"})\n",
    "\n",
    "print(f\"rmse: {rmse:.4f}\")\n",
    "print(f\"mae: {mae:.4f}\")\n",
    "print(f\"r2: {r2:.4f}\")"
   ]
  },
  {
   "cell_type": "code",
   "execution_count": null,
   "id": "3a97d505",
   "metadata": {},
   "outputs": [],
   "source": []
  }
 ],
 "metadata": {
  "kernelspec": {
   "display_name": "spark",
   "language": "python",
   "name": "spark"
  },
  "language_info": {
   "codemirror_mode": {
    "name": "ipython",
    "version": 3
   },
   "file_extension": ".py",
   "mimetype": "text/x-python",
   "name": "python",
   "nbconvert_exporter": "python",
   "pygments_lexer": "ipython3",
   "version": "3.10.9"
  }
 },
 "nbformat": 4,
 "nbformat_minor": 5
}
