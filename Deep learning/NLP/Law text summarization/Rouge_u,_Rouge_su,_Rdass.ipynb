{
  "nbformat": 4,
  "nbformat_minor": 0,
  "metadata": {
    "colab": {
      "provenance": [],
      "machine_shape": "hm"
    },
    "kernelspec": {
      "name": "python3",
      "display_name": "Python 3"
    },
    "language_info": {
      "name": "python"
    },
    "accelerator": "GPU",
    "gpuClass": "standard"
  },
  "cells": [
    {
      "cell_type": "code",
      "execution_count": null,
      "metadata": {
        "colab": {
          "base_uri": "https://localhost:8080/"
        },
        "id": "Su1CJ_ZLAxEC",
        "outputId": "13dfedbb-b2ad-428e-9934-b8b9ff3b7e42"
      },
      "outputs": [
        {
          "output_type": "stream",
          "name": "stdout",
          "text": [
            "Looking in indexes: https://pypi.org/simple, https://us-python.pkg.dev/colab-wheels/public/simple/\n",
            "Collecting rouge\n",
            "  Using cached rouge-1.0.1-py3-none-any.whl (13 kB)\n",
            "Collecting py-rouge\n",
            "  Using cached py_rouge-1.1-py3-none-any.whl (56 kB)\n",
            "Requirement already satisfied: six in /usr/local/lib/python3.9/dist-packages (from rouge) (1.16.0)\n",
            "Installing collected packages: py-rouge, rouge\n",
            "Successfully installed py-rouge-1.1 rouge-1.0.1\n",
            "Looking in indexes: https://pypi.org/simple, https://us-python.pkg.dev/colab-wheels/public/simple/\n",
            "Collecting rouge-score\n",
            "  Downloading rouge_score-0.1.2.tar.gz (17 kB)\n",
            "  Preparing metadata (setup.py) ... \u001b[?25l\u001b[?25hdone\n",
            "Requirement already satisfied: absl-py in /usr/local/lib/python3.9/dist-packages (from rouge-score) (1.4.0)\n",
            "Requirement already satisfied: nltk in /usr/local/lib/python3.9/dist-packages (from rouge-score) (3.8.1)\n",
            "Requirement already satisfied: numpy in /usr/local/lib/python3.9/dist-packages (from rouge-score) (1.22.4)\n",
            "Requirement already satisfied: six>=1.14.0 in /usr/local/lib/python3.9/dist-packages (from rouge-score) (1.16.0)\n",
            "Requirement already satisfied: regex>=2021.8.3 in /usr/local/lib/python3.9/dist-packages (from nltk->rouge-score) (2022.10.31)\n",
            "Requirement already satisfied: tqdm in /usr/local/lib/python3.9/dist-packages (from nltk->rouge-score) (4.65.0)\n",
            "Requirement already satisfied: joblib in /usr/local/lib/python3.9/dist-packages (from nltk->rouge-score) (1.1.1)\n",
            "Requirement already satisfied: click in /usr/local/lib/python3.9/dist-packages (from nltk->rouge-score) (8.1.3)\n",
            "Building wheels for collected packages: rouge-score\n",
            "  Building wheel for rouge-score (setup.py) ... \u001b[?25l\u001b[?25hdone\n",
            "  Created wheel for rouge-score: filename=rouge_score-0.1.2-py3-none-any.whl size=24954 sha256=04129282148e0de3debb99169b057263121798760a9d08cf90322dff03185b72\n",
            "  Stored in directory: /root/.cache/pip/wheels/9b/3d/39/09558097d3119ca0a4d462df68f22c6f3c1b345ac63a09b86e\n",
            "Successfully built rouge-score\n",
            "Installing collected packages: rouge-score\n",
            "Successfully installed rouge-score-0.1.2\n"
          ]
        }
      ],
      "source": [
        "!pip install rouge py-rouge\n",
        "!pip install rouge-score"
      ]
    },
    {
      "cell_type": "code",
      "source": [
        "from rouge import Rouge\n",
        "from rouge_score import rouge_scorer\n",
        "\n",
        "rouge = Rouge()\n",
        "scorer = rouge_scorer.RougeScorer(['rouge1', 'rouge2', 'rougeLsum'], use_stemmer=True)\n",
        "\n",
        "# 정답 요약(MR3-24)\n",
        "reference_summary = \"윤석열 대통령은 10일 외교관학교(해사) 제77기 졸업 및 임관식에 참석해 해군과 해병대가 강력한 해양 강군을 건설해 힘에 의한 평화를 구현하는 데 앞장서 달라고 당부했다. 윤석열 대통령은 북한의 도발과 위협에 대응하고, 해군ㆍ해병대 노고에 감사를 표하고 제복 입은 영웅들이 존경받고 예우받는 대한민국을 국민과 함께 만들어 나갈 것이라고 전했다. 윤석열 대통령은 전적으로 스스로의 힘으로 국가안보를 활성화하고 '진정한 평화'를 구축해야 한다고 말했다.\"\n",
        "\n",
        "# 생성된 요약(MR3-24)\n",
        "generated_summary = \"윤석열 대통령은 10일 해군사관학교(해사) 제77기 졸업 및 임관식에 참석해 해군과 해병대가 강력한 해양 강군을 구축해 힘에 의한 평화를 구현하는 데 앞장서 달라고 당부하며 세계 안보 질서는 미증유의 도전에 직면해 있으며, 동북아와 한반도 안보 상황은 그 어느 때보다 엄중하다면서 어떠한 도전 앞에서도 자유민주주의를 수호하고, 한반도의 평화와 번영을 성취하기 위해서는 강한 국방력이 뒷받침돼야 한다고 강조했다.\"\n",
        "\n",
        "# rouge-1, rouge-2, rouge-lsum 값을 계산합니다.\n",
        "rouge_scores = rouge.get_scores(generated_summary, reference_summary)\n",
        "\n",
        "# rouge-u 값을 계산합니다.\n",
        "rouge_u_scores = scorer.score(generated_summary, reference_summary)\n",
        "\n",
        "# 결과 출력\n",
        "print(\"rouge-1: \", rouge_scores[0]['rouge-1'])\n",
        "print(\"rouge-2: \", rouge_scores[0]['rouge-2'])\n",
        "# print(\"rouge-lsum: \", rouge_scores[0]['rouge-lsum'])\n",
        "print(\"rouge-u: \", rouge_u_scores['rouge1'][2])\n",
        "print(\"rouge-su: \", rouge_u_scores['rouge2'][2])\n",
        "print(\"rdass: \", (rouge_u_scores['rouge1'][2] + rouge_u_scores['rouge2'][2]) / 2)"
      ],
      "metadata": {
        "colab": {
          "base_uri": "https://localhost:8080/"
        },
        "id": "TgXQJfgEAB7W",
        "outputId": "a6837496-99f1-42dc-d5fa-819760d27c01"
      },
      "execution_count": null,
      "outputs": [
        {
          "output_type": "stream",
          "name": "stdout",
          "text": [
            "rouge-1:  {'r': 0.39622641509433965, 'p': 0.40384615384615385, 'f': 0.3999999950004535}\n",
            "rouge-2:  {'r': 0.3148148148148148, 'p': 0.3269230769230769, 'f': 0.3207547119829121}\n",
            "rouge-u:  1.0\n",
            "rouge-su:  1.0\n",
            "rdass:  1.0\n"
          ]
        }
      ]
    }
  ]
}